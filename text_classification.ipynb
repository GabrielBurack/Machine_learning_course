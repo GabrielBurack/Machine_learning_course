{
  "cells": [
    {
      "cell_type": "markdown",
      "metadata": {
        "id": "view-in-github",
        "colab_type": "text"
      },
      "source": [
        "<a href=\"https://colab.research.google.com/github/GabrielBurack/Machine_learning_course/blob/main/text_classification.ipynb\" target=\"_parent\"><img src=\"https://colab.research.google.com/assets/colab-badge.svg\" alt=\"Open In Colab\"/></a>"
      ]
    },
    {
      "cell_type": "markdown",
      "metadata": {
        "id": "7lTf-DpfESiI"
      },
      "source": [
        "link Kaggle: https://www.kaggle.com/datasets/augustop/portuguese-tweets-for-sentiment-analysis/data"
      ]
    },
    {
      "cell_type": "markdown",
      "metadata": {
        "id": "hAMYY7f_EYA7"
      },
      "source": [
        "\n",
        "\n",
        "*   Negative Label: 0\n",
        "*   Positive label: 1\n",
        "\n",
        "\n"
      ]
    },
    {
      "cell_type": "code",
      "execution_count": null,
      "metadata": {
        "colab": {
          "base_uri": "https://localhost:8080/",
          "height": 35
        },
        "id": "S7MVOXRxCZi3",
        "outputId": "ece98952-fbde-40a4-af9a-9a66f29ec938"
      },
      "outputs": [
        {
          "data": {
            "application/vnd.google.colaboratory.intrinsic+json": {
              "type": "string"
            },
            "text/plain": [
              "'3.7.5'"
            ]
          },
          "execution_count": 1,
          "metadata": {},
          "output_type": "execute_result"
        }
      ],
      "source": [
        "import spacy\n",
        "spacy.__version__"
      ]
    },
    {
      "cell_type": "code",
      "execution_count": null,
      "metadata": {
        "colab": {
          "base_uri": "https://localhost:8080/"
        },
        "id": "e2yph18fCveI",
        "outputId": "7cb04712-67d8-4f71-fa63-4854c463f0df"
      },
      "outputs": [
        {
          "name": "stdout",
          "output_type": "stream",
          "text": [
            "Collecting pt-core-news-sm==3.7.0\n",
            "  Downloading https://github.com/explosion/spacy-models/releases/download/pt_core_news_sm-3.7.0/pt_core_news_sm-3.7.0-py3-none-any.whl (13.0 MB)\n",
            "\u001b[2K     \u001b[90m━━━━━━━━━━━━━━━━━━━━━━━━━━━━━━━━━━━━━━━━\u001b[0m \u001b[32m13.0/13.0 MB\u001b[0m \u001b[31m74.4 MB/s\u001b[0m eta \u001b[36m0:00:00\u001b[0m\n",
            "\u001b[?25hRequirement already satisfied: spacy<3.8.0,>=3.7.0 in /usr/local/lib/python3.11/dist-packages (from pt-core-news-sm==3.7.0) (3.7.5)\n",
            "Requirement already satisfied: spacy-legacy<3.1.0,>=3.0.11 in /usr/local/lib/python3.11/dist-packages (from spacy<3.8.0,>=3.7.0->pt-core-news-sm==3.7.0) (3.0.12)\n",
            "Requirement already satisfied: spacy-loggers<2.0.0,>=1.0.0 in /usr/local/lib/python3.11/dist-packages (from spacy<3.8.0,>=3.7.0->pt-core-news-sm==3.7.0) (1.0.5)\n",
            "Requirement already satisfied: murmurhash<1.1.0,>=0.28.0 in /usr/local/lib/python3.11/dist-packages (from spacy<3.8.0,>=3.7.0->pt-core-news-sm==3.7.0) (1.0.12)\n",
            "Requirement already satisfied: cymem<2.1.0,>=2.0.2 in /usr/local/lib/python3.11/dist-packages (from spacy<3.8.0,>=3.7.0->pt-core-news-sm==3.7.0) (2.0.11)\n",
            "Requirement already satisfied: preshed<3.1.0,>=3.0.2 in /usr/local/lib/python3.11/dist-packages (from spacy<3.8.0,>=3.7.0->pt-core-news-sm==3.7.0) (3.0.9)\n",
            "Requirement already satisfied: thinc<8.3.0,>=8.2.2 in /usr/local/lib/python3.11/dist-packages (from spacy<3.8.0,>=3.7.0->pt-core-news-sm==3.7.0) (8.2.5)\n",
            "Requirement already satisfied: wasabi<1.2.0,>=0.9.1 in /usr/local/lib/python3.11/dist-packages (from spacy<3.8.0,>=3.7.0->pt-core-news-sm==3.7.0) (1.1.3)\n",
            "Requirement already satisfied: srsly<3.0.0,>=2.4.3 in /usr/local/lib/python3.11/dist-packages (from spacy<3.8.0,>=3.7.0->pt-core-news-sm==3.7.0) (2.5.1)\n",
            "Requirement already satisfied: catalogue<2.1.0,>=2.0.6 in /usr/local/lib/python3.11/dist-packages (from spacy<3.8.0,>=3.7.0->pt-core-news-sm==3.7.0) (2.0.10)\n",
            "Requirement already satisfied: weasel<0.5.0,>=0.1.0 in /usr/local/lib/python3.11/dist-packages (from spacy<3.8.0,>=3.7.0->pt-core-news-sm==3.7.0) (0.4.1)\n",
            "Requirement already satisfied: typer<1.0.0,>=0.3.0 in /usr/local/lib/python3.11/dist-packages (from spacy<3.8.0,>=3.7.0->pt-core-news-sm==3.7.0) (0.15.1)\n",
            "Requirement already satisfied: tqdm<5.0.0,>=4.38.0 in /usr/local/lib/python3.11/dist-packages (from spacy<3.8.0,>=3.7.0->pt-core-news-sm==3.7.0) (4.67.1)\n",
            "Requirement already satisfied: requests<3.0.0,>=2.13.0 in /usr/local/lib/python3.11/dist-packages (from spacy<3.8.0,>=3.7.0->pt-core-news-sm==3.7.0) (2.32.3)\n",
            "Requirement already satisfied: pydantic!=1.8,!=1.8.1,<3.0.0,>=1.7.4 in /usr/local/lib/python3.11/dist-packages (from spacy<3.8.0,>=3.7.0->pt-core-news-sm==3.7.0) (2.10.6)\n",
            "Requirement already satisfied: jinja2 in /usr/local/lib/python3.11/dist-packages (from spacy<3.8.0,>=3.7.0->pt-core-news-sm==3.7.0) (3.1.5)\n",
            "Requirement already satisfied: setuptools in /usr/local/lib/python3.11/dist-packages (from spacy<3.8.0,>=3.7.0->pt-core-news-sm==3.7.0) (75.1.0)\n",
            "Requirement already satisfied: packaging>=20.0 in /usr/local/lib/python3.11/dist-packages (from spacy<3.8.0,>=3.7.0->pt-core-news-sm==3.7.0) (24.2)\n",
            "Requirement already satisfied: langcodes<4.0.0,>=3.2.0 in /usr/local/lib/python3.11/dist-packages (from spacy<3.8.0,>=3.7.0->pt-core-news-sm==3.7.0) (3.5.0)\n",
            "Requirement already satisfied: numpy>=1.19.0 in /usr/local/lib/python3.11/dist-packages (from spacy<3.8.0,>=3.7.0->pt-core-news-sm==3.7.0) (1.26.4)\n",
            "Requirement already satisfied: language-data>=1.2 in /usr/local/lib/python3.11/dist-packages (from langcodes<4.0.0,>=3.2.0->spacy<3.8.0,>=3.7.0->pt-core-news-sm==3.7.0) (1.3.0)\n",
            "Requirement already satisfied: annotated-types>=0.6.0 in /usr/local/lib/python3.11/dist-packages (from pydantic!=1.8,!=1.8.1,<3.0.0,>=1.7.4->spacy<3.8.0,>=3.7.0->pt-core-news-sm==3.7.0) (0.7.0)\n",
            "Requirement already satisfied: pydantic-core==2.27.2 in /usr/local/lib/python3.11/dist-packages (from pydantic!=1.8,!=1.8.1,<3.0.0,>=1.7.4->spacy<3.8.0,>=3.7.0->pt-core-news-sm==3.7.0) (2.27.2)\n",
            "Requirement already satisfied: typing-extensions>=4.12.2 in /usr/local/lib/python3.11/dist-packages (from pydantic!=1.8,!=1.8.1,<3.0.0,>=1.7.4->spacy<3.8.0,>=3.7.0->pt-core-news-sm==3.7.0) (4.12.2)\n",
            "Requirement already satisfied: charset-normalizer<4,>=2 in /usr/local/lib/python3.11/dist-packages (from requests<3.0.0,>=2.13.0->spacy<3.8.0,>=3.7.0->pt-core-news-sm==3.7.0) (3.4.1)\n",
            "Requirement already satisfied: idna<4,>=2.5 in /usr/local/lib/python3.11/dist-packages (from requests<3.0.0,>=2.13.0->spacy<3.8.0,>=3.7.0->pt-core-news-sm==3.7.0) (3.10)\n",
            "Requirement already satisfied: urllib3<3,>=1.21.1 in /usr/local/lib/python3.11/dist-packages (from requests<3.0.0,>=2.13.0->spacy<3.8.0,>=3.7.0->pt-core-news-sm==3.7.0) (2.3.0)\n",
            "Requirement already satisfied: certifi>=2017.4.17 in /usr/local/lib/python3.11/dist-packages (from requests<3.0.0,>=2.13.0->spacy<3.8.0,>=3.7.0->pt-core-news-sm==3.7.0) (2024.12.14)\n",
            "Requirement already satisfied: blis<0.8.0,>=0.7.8 in /usr/local/lib/python3.11/dist-packages (from thinc<8.3.0,>=8.2.2->spacy<3.8.0,>=3.7.0->pt-core-news-sm==3.7.0) (0.7.11)\n",
            "Requirement already satisfied: confection<1.0.0,>=0.0.1 in /usr/local/lib/python3.11/dist-packages (from thinc<8.3.0,>=8.2.2->spacy<3.8.0,>=3.7.0->pt-core-news-sm==3.7.0) (0.1.5)\n",
            "Requirement already satisfied: click>=8.0.0 in /usr/local/lib/python3.11/dist-packages (from typer<1.0.0,>=0.3.0->spacy<3.8.0,>=3.7.0->pt-core-news-sm==3.7.0) (8.1.8)\n",
            "Requirement already satisfied: shellingham>=1.3.0 in /usr/local/lib/python3.11/dist-packages (from typer<1.0.0,>=0.3.0->spacy<3.8.0,>=3.7.0->pt-core-news-sm==3.7.0) (1.5.4)\n",
            "Requirement already satisfied: rich>=10.11.0 in /usr/local/lib/python3.11/dist-packages (from typer<1.0.0,>=0.3.0->spacy<3.8.0,>=3.7.0->pt-core-news-sm==3.7.0) (13.9.4)\n",
            "Requirement already satisfied: cloudpathlib<1.0.0,>=0.7.0 in /usr/local/lib/python3.11/dist-packages (from weasel<0.5.0,>=0.1.0->spacy<3.8.0,>=3.7.0->pt-core-news-sm==3.7.0) (0.20.0)\n",
            "Requirement already satisfied: smart-open<8.0.0,>=5.2.1 in /usr/local/lib/python3.11/dist-packages (from weasel<0.5.0,>=0.1.0->spacy<3.8.0,>=3.7.0->pt-core-news-sm==3.7.0) (7.1.0)\n",
            "Requirement already satisfied: MarkupSafe>=2.0 in /usr/local/lib/python3.11/dist-packages (from jinja2->spacy<3.8.0,>=3.7.0->pt-core-news-sm==3.7.0) (3.0.2)\n",
            "Requirement already satisfied: marisa-trie>=1.1.0 in /usr/local/lib/python3.11/dist-packages (from language-data>=1.2->langcodes<4.0.0,>=3.2.0->spacy<3.8.0,>=3.7.0->pt-core-news-sm==3.7.0) (1.2.1)\n",
            "Requirement already satisfied: markdown-it-py>=2.2.0 in /usr/local/lib/python3.11/dist-packages (from rich>=10.11.0->typer<1.0.0,>=0.3.0->spacy<3.8.0,>=3.7.0->pt-core-news-sm==3.7.0) (3.0.0)\n",
            "Requirement already satisfied: pygments<3.0.0,>=2.13.0 in /usr/local/lib/python3.11/dist-packages (from rich>=10.11.0->typer<1.0.0,>=0.3.0->spacy<3.8.0,>=3.7.0->pt-core-news-sm==3.7.0) (2.18.0)\n",
            "Requirement already satisfied: wrapt in /usr/local/lib/python3.11/dist-packages (from smart-open<8.0.0,>=5.2.1->weasel<0.5.0,>=0.1.0->spacy<3.8.0,>=3.7.0->pt-core-news-sm==3.7.0) (1.17.2)\n",
            "Requirement already satisfied: mdurl~=0.1 in /usr/local/lib/python3.11/dist-packages (from markdown-it-py>=2.2.0->rich>=10.11.0->typer<1.0.0,>=0.3.0->spacy<3.8.0,>=3.7.0->pt-core-news-sm==3.7.0) (0.1.2)\n",
            "Installing collected packages: pt-core-news-sm\n",
            "Successfully installed pt-core-news-sm-3.7.0\n",
            "\u001b[38;5;2m✔ Download and installation successful\u001b[0m\n",
            "You can now load the package via spacy.load('pt_core_news_sm')\n",
            "\u001b[38;5;3m⚠ Restart to reload dependencies\u001b[0m\n",
            "If you are in a Jupyter or Colab notebook, you may need to restart Python in\n",
            "order to load all the package's dependencies. You can do this by selecting the\n",
            "'Restart kernel' or 'Restart runtime' option.\n"
          ]
        }
      ],
      "source": [
        "!python -m spacy download pt_core_news_sm"
      ]
    },
    {
      "cell_type": "code",
      "execution_count": null,
      "metadata": {
        "id": "C9UGRazLC56m"
      },
      "outputs": [],
      "source": [
        "import pandas as pd\n",
        "import string\n",
        "import spacy\n",
        "import random\n",
        "import seaborn as sns\n",
        "import numpy as np"
      ]
    },
    {
      "cell_type": "markdown",
      "metadata": {
        "id": "Bjr_ahqbDIzb"
      },
      "source": [
        "# Carregamento da base de dados"
      ]
    },
    {
      "cell_type": "code",
      "execution_count": 33,
      "metadata": {
        "colab": {
          "base_uri": "https://localhost:8080/"
        },
        "id": "YG6i-DVBDQBQ",
        "outputId": "b3adf524-214e-4df8-f2de-c776897945de"
      },
      "outputs": [
        {
          "output_type": "execute_result",
          "data": {
            "text/plain": [
              "(50000, 5)"
            ]
          },
          "metadata": {},
          "execution_count": 33
        }
      ],
      "source": [
        "base_treinamento = pd.read_csv('Train50.csv', delimiter = ';')\n",
        "base_treinamento.shape"
      ]
    },
    {
      "cell_type": "code",
      "execution_count": 35,
      "metadata": {
        "colab": {
          "base_uri": "https://localhost:8080/",
          "height": 293
        },
        "id": "8vCi00p0E_w8",
        "outputId": "00edceeb-a102-4197-8668-76125ba6dfb3"
      },
      "outputs": [
        {
          "output_type": "execute_result",
          "data": {
            "text/plain": [
              "                    id                                         tweet_text  \\\n",
              "0  1050785521201541121  @Laranjito76 A pessoa certa para isso seria o ...   \n",
              "1  1050785431955140608  @behin_d_curtain Para mim, é precisamente o co...   \n",
              "2  1050785401248645120  Vou fazer um video hoje... estou pensando em f...   \n",
              "3  1050785370982547461  aaaaaaaa amei tanto essas polaroids, nem sei e...   \n",
              "4  1050785368902131713  Valoriza o coração do menininho que vc tem. El...   \n",
              "\n",
              "                       tweet_date  sentiment query_used  \n",
              "0  Fri Oct 12 16:29:25 +0000 2018          1         :)  \n",
              "1  Fri Oct 12 16:29:04 +0000 2018          1         :)  \n",
              "2  Fri Oct 12 16:28:56 +0000 2018          1         :)  \n",
              "3  Fri Oct 12 16:28:49 +0000 2018          1         :)  \n",
              "4  Fri Oct 12 16:28:49 +0000 2018          1         :)  "
            ],
            "text/html": [
              "\n",
              "  <div id=\"df-12ed7425-9a15-4a44-8cb9-e54f0ee1786a\" class=\"colab-df-container\">\n",
              "    <div>\n",
              "<style scoped>\n",
              "    .dataframe tbody tr th:only-of-type {\n",
              "        vertical-align: middle;\n",
              "    }\n",
              "\n",
              "    .dataframe tbody tr th {\n",
              "        vertical-align: top;\n",
              "    }\n",
              "\n",
              "    .dataframe thead th {\n",
              "        text-align: right;\n",
              "    }\n",
              "</style>\n",
              "<table border=\"1\" class=\"dataframe\">\n",
              "  <thead>\n",
              "    <tr style=\"text-align: right;\">\n",
              "      <th></th>\n",
              "      <th>id</th>\n",
              "      <th>tweet_text</th>\n",
              "      <th>tweet_date</th>\n",
              "      <th>sentiment</th>\n",
              "      <th>query_used</th>\n",
              "    </tr>\n",
              "  </thead>\n",
              "  <tbody>\n",
              "    <tr>\n",
              "      <th>0</th>\n",
              "      <td>1050785521201541121</td>\n",
              "      <td>@Laranjito76 A pessoa certa para isso seria o ...</td>\n",
              "      <td>Fri Oct 12 16:29:25 +0000 2018</td>\n",
              "      <td>1</td>\n",
              "      <td>:)</td>\n",
              "    </tr>\n",
              "    <tr>\n",
              "      <th>1</th>\n",
              "      <td>1050785431955140608</td>\n",
              "      <td>@behin_d_curtain Para mim, é precisamente o co...</td>\n",
              "      <td>Fri Oct 12 16:29:04 +0000 2018</td>\n",
              "      <td>1</td>\n",
              "      <td>:)</td>\n",
              "    </tr>\n",
              "    <tr>\n",
              "      <th>2</th>\n",
              "      <td>1050785401248645120</td>\n",
              "      <td>Vou fazer um video hoje... estou pensando em f...</td>\n",
              "      <td>Fri Oct 12 16:28:56 +0000 2018</td>\n",
              "      <td>1</td>\n",
              "      <td>:)</td>\n",
              "    </tr>\n",
              "    <tr>\n",
              "      <th>3</th>\n",
              "      <td>1050785370982547461</td>\n",
              "      <td>aaaaaaaa amei tanto essas polaroids, nem sei e...</td>\n",
              "      <td>Fri Oct 12 16:28:49 +0000 2018</td>\n",
              "      <td>1</td>\n",
              "      <td>:)</td>\n",
              "    </tr>\n",
              "    <tr>\n",
              "      <th>4</th>\n",
              "      <td>1050785368902131713</td>\n",
              "      <td>Valoriza o coração do menininho que vc tem. El...</td>\n",
              "      <td>Fri Oct 12 16:28:49 +0000 2018</td>\n",
              "      <td>1</td>\n",
              "      <td>:)</td>\n",
              "    </tr>\n",
              "  </tbody>\n",
              "</table>\n",
              "</div>\n",
              "    <div class=\"colab-df-buttons\">\n",
              "\n",
              "  <div class=\"colab-df-container\">\n",
              "    <button class=\"colab-df-convert\" onclick=\"convertToInteractive('df-12ed7425-9a15-4a44-8cb9-e54f0ee1786a')\"\n",
              "            title=\"Convert this dataframe to an interactive table.\"\n",
              "            style=\"display:none;\">\n",
              "\n",
              "  <svg xmlns=\"http://www.w3.org/2000/svg\" height=\"24px\" viewBox=\"0 -960 960 960\">\n",
              "    <path d=\"M120-120v-720h720v720H120Zm60-500h600v-160H180v160Zm220 220h160v-160H400v160Zm0 220h160v-160H400v160ZM180-400h160v-160H180v160Zm440 0h160v-160H620v160ZM180-180h160v-160H180v160Zm440 0h160v-160H620v160Z\"/>\n",
              "  </svg>\n",
              "    </button>\n",
              "\n",
              "  <style>\n",
              "    .colab-df-container {\n",
              "      display:flex;\n",
              "      gap: 12px;\n",
              "    }\n",
              "\n",
              "    .colab-df-convert {\n",
              "      background-color: #E8F0FE;\n",
              "      border: none;\n",
              "      border-radius: 50%;\n",
              "      cursor: pointer;\n",
              "      display: none;\n",
              "      fill: #1967D2;\n",
              "      height: 32px;\n",
              "      padding: 0 0 0 0;\n",
              "      width: 32px;\n",
              "    }\n",
              "\n",
              "    .colab-df-convert:hover {\n",
              "      background-color: #E2EBFA;\n",
              "      box-shadow: 0px 1px 2px rgba(60, 64, 67, 0.3), 0px 1px 3px 1px rgba(60, 64, 67, 0.15);\n",
              "      fill: #174EA6;\n",
              "    }\n",
              "\n",
              "    .colab-df-buttons div {\n",
              "      margin-bottom: 4px;\n",
              "    }\n",
              "\n",
              "    [theme=dark] .colab-df-convert {\n",
              "      background-color: #3B4455;\n",
              "      fill: #D2E3FC;\n",
              "    }\n",
              "\n",
              "    [theme=dark] .colab-df-convert:hover {\n",
              "      background-color: #434B5C;\n",
              "      box-shadow: 0px 1px 3px 1px rgba(0, 0, 0, 0.15);\n",
              "      filter: drop-shadow(0px 1px 2px rgba(0, 0, 0, 0.3));\n",
              "      fill: #FFFFFF;\n",
              "    }\n",
              "  </style>\n",
              "\n",
              "    <script>\n",
              "      const buttonEl =\n",
              "        document.querySelector('#df-12ed7425-9a15-4a44-8cb9-e54f0ee1786a button.colab-df-convert');\n",
              "      buttonEl.style.display =\n",
              "        google.colab.kernel.accessAllowed ? 'block' : 'none';\n",
              "\n",
              "      async function convertToInteractive(key) {\n",
              "        const element = document.querySelector('#df-12ed7425-9a15-4a44-8cb9-e54f0ee1786a');\n",
              "        const dataTable =\n",
              "          await google.colab.kernel.invokeFunction('convertToInteractive',\n",
              "                                                    [key], {});\n",
              "        if (!dataTable) return;\n",
              "\n",
              "        const docLinkHtml = 'Like what you see? Visit the ' +\n",
              "          '<a target=\"_blank\" href=https://colab.research.google.com/notebooks/data_table.ipynb>data table notebook</a>'\n",
              "          + ' to learn more about interactive tables.';\n",
              "        element.innerHTML = '';\n",
              "        dataTable['output_type'] = 'display_data';\n",
              "        await google.colab.output.renderOutput(dataTable, element);\n",
              "        const docLink = document.createElement('div');\n",
              "        docLink.innerHTML = docLinkHtml;\n",
              "        element.appendChild(docLink);\n",
              "      }\n",
              "    </script>\n",
              "  </div>\n",
              "\n",
              "\n",
              "<div id=\"df-c052afc0-6e84-435e-b58a-aa7a4865fc71\">\n",
              "  <button class=\"colab-df-quickchart\" onclick=\"quickchart('df-c052afc0-6e84-435e-b58a-aa7a4865fc71')\"\n",
              "            title=\"Suggest charts\"\n",
              "            style=\"display:none;\">\n",
              "\n",
              "<svg xmlns=\"http://www.w3.org/2000/svg\" height=\"24px\"viewBox=\"0 0 24 24\"\n",
              "     width=\"24px\">\n",
              "    <g>\n",
              "        <path d=\"M19 3H5c-1.1 0-2 .9-2 2v14c0 1.1.9 2 2 2h14c1.1 0 2-.9 2-2V5c0-1.1-.9-2-2-2zM9 17H7v-7h2v7zm4 0h-2V7h2v10zm4 0h-2v-4h2v4z\"/>\n",
              "    </g>\n",
              "</svg>\n",
              "  </button>\n",
              "\n",
              "<style>\n",
              "  .colab-df-quickchart {\n",
              "      --bg-color: #E8F0FE;\n",
              "      --fill-color: #1967D2;\n",
              "      --hover-bg-color: #E2EBFA;\n",
              "      --hover-fill-color: #174EA6;\n",
              "      --disabled-fill-color: #AAA;\n",
              "      --disabled-bg-color: #DDD;\n",
              "  }\n",
              "\n",
              "  [theme=dark] .colab-df-quickchart {\n",
              "      --bg-color: #3B4455;\n",
              "      --fill-color: #D2E3FC;\n",
              "      --hover-bg-color: #434B5C;\n",
              "      --hover-fill-color: #FFFFFF;\n",
              "      --disabled-bg-color: #3B4455;\n",
              "      --disabled-fill-color: #666;\n",
              "  }\n",
              "\n",
              "  .colab-df-quickchart {\n",
              "    background-color: var(--bg-color);\n",
              "    border: none;\n",
              "    border-radius: 50%;\n",
              "    cursor: pointer;\n",
              "    display: none;\n",
              "    fill: var(--fill-color);\n",
              "    height: 32px;\n",
              "    padding: 0;\n",
              "    width: 32px;\n",
              "  }\n",
              "\n",
              "  .colab-df-quickchart:hover {\n",
              "    background-color: var(--hover-bg-color);\n",
              "    box-shadow: 0 1px 2px rgba(60, 64, 67, 0.3), 0 1px 3px 1px rgba(60, 64, 67, 0.15);\n",
              "    fill: var(--button-hover-fill-color);\n",
              "  }\n",
              "\n",
              "  .colab-df-quickchart-complete:disabled,\n",
              "  .colab-df-quickchart-complete:disabled:hover {\n",
              "    background-color: var(--disabled-bg-color);\n",
              "    fill: var(--disabled-fill-color);\n",
              "    box-shadow: none;\n",
              "  }\n",
              "\n",
              "  .colab-df-spinner {\n",
              "    border: 2px solid var(--fill-color);\n",
              "    border-color: transparent;\n",
              "    border-bottom-color: var(--fill-color);\n",
              "    animation:\n",
              "      spin 1s steps(1) infinite;\n",
              "  }\n",
              "\n",
              "  @keyframes spin {\n",
              "    0% {\n",
              "      border-color: transparent;\n",
              "      border-bottom-color: var(--fill-color);\n",
              "      border-left-color: var(--fill-color);\n",
              "    }\n",
              "    20% {\n",
              "      border-color: transparent;\n",
              "      border-left-color: var(--fill-color);\n",
              "      border-top-color: var(--fill-color);\n",
              "    }\n",
              "    30% {\n",
              "      border-color: transparent;\n",
              "      border-left-color: var(--fill-color);\n",
              "      border-top-color: var(--fill-color);\n",
              "      border-right-color: var(--fill-color);\n",
              "    }\n",
              "    40% {\n",
              "      border-color: transparent;\n",
              "      border-right-color: var(--fill-color);\n",
              "      border-top-color: var(--fill-color);\n",
              "    }\n",
              "    60% {\n",
              "      border-color: transparent;\n",
              "      border-right-color: var(--fill-color);\n",
              "    }\n",
              "    80% {\n",
              "      border-color: transparent;\n",
              "      border-right-color: var(--fill-color);\n",
              "      border-bottom-color: var(--fill-color);\n",
              "    }\n",
              "    90% {\n",
              "      border-color: transparent;\n",
              "      border-bottom-color: var(--fill-color);\n",
              "    }\n",
              "  }\n",
              "</style>\n",
              "\n",
              "  <script>\n",
              "    async function quickchart(key) {\n",
              "      const quickchartButtonEl =\n",
              "        document.querySelector('#' + key + ' button');\n",
              "      quickchartButtonEl.disabled = true;  // To prevent multiple clicks.\n",
              "      quickchartButtonEl.classList.add('colab-df-spinner');\n",
              "      try {\n",
              "        const charts = await google.colab.kernel.invokeFunction(\n",
              "            'suggestCharts', [key], {});\n",
              "      } catch (error) {\n",
              "        console.error('Error during call to suggestCharts:', error);\n",
              "      }\n",
              "      quickchartButtonEl.classList.remove('colab-df-spinner');\n",
              "      quickchartButtonEl.classList.add('colab-df-quickchart-complete');\n",
              "    }\n",
              "    (() => {\n",
              "      let quickchartButtonEl =\n",
              "        document.querySelector('#df-c052afc0-6e84-435e-b58a-aa7a4865fc71 button');\n",
              "      quickchartButtonEl.style.display =\n",
              "        google.colab.kernel.accessAllowed ? 'block' : 'none';\n",
              "    })();\n",
              "  </script>\n",
              "</div>\n",
              "\n",
              "    </div>\n",
              "  </div>\n"
            ],
            "application/vnd.google.colaboratory.intrinsic+json": {
              "type": "dataframe",
              "variable_name": "base_treinamento",
              "summary": "{\n  \"name\": \"base_treinamento\",\n  \"rows\": 50000,\n  \"fields\": [\n    {\n      \"column\": \"id\",\n      \"properties\": {\n        \"dtype\": \"number\",\n        \"std\": 1296149939318662,\n        \"min\": 1045479758895751168,\n        \"max\": 1050785521201541121,\n        \"num_unique_values\": 50000,\n        \"samples\": [\n          1049158578504916992,\n          1049104603332169728,\n          1050780236856651776\n        ],\n        \"semantic_type\": \"\",\n        \"description\": \"\"\n      }\n    },\n    {\n      \"column\": \"tweet_text\",\n      \"properties\": {\n        \"dtype\": \"string\",\n        \"num_unique_values\": 49449,\n        \"samples\": [\n          \"O bom de nao estar mais trabalhando e que posso ir dormir a hora que eu quiser, a parte ruim e que nao estou ganhando nada para isso :(\",\n          \"@Tidal_Brasil n\\u00e3o estou conseguindo conectar minha conta com o twitter... Pq? :(\",\n          \"@unlykkeli sim :( o discurso elitista \\u00e9 mto parecido, mas o de \\u00f3dio de hoje \\u00e9 ainda mais assustador\"\n        ],\n        \"semantic_type\": \"\",\n        \"description\": \"\"\n      }\n    },\n    {\n      \"column\": \"tweet_date\",\n      \"properties\": {\n        \"dtype\": \"object\",\n        \"num_unique_values\": 42040,\n        \"samples\": [\n          \"Tue Oct 02 03:18:10 +0000 2018\",\n          \"Mon Oct 08 05:46:22 +0000 2018\",\n          \"Mon Oct 08 10:40:30 +0000 2018\"\n        ],\n        \"semantic_type\": \"\",\n        \"description\": \"\"\n      }\n    },\n    {\n      \"column\": \"sentiment\",\n      \"properties\": {\n        \"dtype\": \"number\",\n        \"std\": 0,\n        \"min\": 0,\n        \"max\": 1,\n        \"num_unique_values\": 2,\n        \"samples\": [\n          0,\n          1\n        ],\n        \"semantic_type\": \"\",\n        \"description\": \"\"\n      }\n    },\n    {\n      \"column\": \"query_used\",\n      \"properties\": {\n        \"dtype\": \"category\",\n        \"num_unique_values\": 2,\n        \"samples\": [\n          \":(\",\n          \":)\"\n        ],\n        \"semantic_type\": \"\",\n        \"description\": \"\"\n      }\n    }\n  ]\n}"
            }
          },
          "metadata": {},
          "execution_count": 35
        }
      ],
      "source": [
        "base_treinamento.head()"
      ]
    },
    {
      "cell_type": "code",
      "execution_count": 34,
      "metadata": {
        "colab": {
          "base_uri": "https://localhost:8080/",
          "height": 466
        },
        "id": "rdB8aB92E6hy",
        "outputId": "65c5af56-8d22-48b9-c50a-b76cc08676dc"
      },
      "outputs": [
        {
          "output_type": "execute_result",
          "data": {
            "text/plain": [
              "<Axes: xlabel='sentiment', ylabel='count'>"
            ]
          },
          "metadata": {},
          "execution_count": 34
        },
        {
          "output_type": "display_data",
          "data": {
            "text/plain": [
              "<Figure size 640x480 with 1 Axes>"
            ],
            "image/png": "[encoded data removed]"
          },
          "metadata": {}
        }
      ],
      "source": [
        "sns.countplot(x = 'sentiment', data = base_treinamento)"
      ]
    },
    {
      "cell_type": "code",
      "source": [
        "base_treinamento.drop(['id','tweet_date', 'query_used'], axis = 1, inplace = True)"
      ],
      "metadata": {
        "id": "lD1lOj3AcntK"
      },
      "execution_count": 36,
      "outputs": []
    },
    {
      "cell_type": "code",
      "source": [
        "sns.heatmap(pd.isnull(base_treinamento))"
      ],
      "metadata": {
        "colab": {
          "base_uri": "https://localhost:8080/",
          "height": 454
        },
        "id": "GC0ueBI1dj0H",
        "outputId": "f73f84e1-ccc2-418a-c3a9-ba55f1b8a108"
      },
      "execution_count": 41,
      "outputs": [
        {
          "output_type": "execute_result",
          "data": {
            "text/plain": [
              "<Axes: >"
            ]
          },
          "metadata": {},
          "execution_count": 41
        },
        {
          "output_type": "display_data",
          "data": {
            "text/plain": [
              "<Figure size 640x480 with 2 Axes>"
            ],
            "image/png": "[encoded data removed]"
          },
          "metadata": {}
        }
      ]
    },
    {
      "cell_type": "markdown",
      "source": [
        "base de teste:"
      ],
      "metadata": {
        "id": "2KVTZTtFdM-i"
      }
    },
    {
      "cell_type": "code",
      "source": [
        "base_teste = pd.read_csv('Test.csv', delimiter=';')"
      ],
      "metadata": {
        "id": "sRARZmKXdXT4"
      },
      "execution_count": 39,
      "outputs": []
    },
    {
      "cell_type": "code",
      "source": [
        "base_teste.drop(['id','tweet_date', 'query_used'], axis = 1, inplace = True)"
      ],
      "metadata": {
        "id": "PS0J9ROifpgr"
      },
      "execution_count": 51,
      "outputs": []
    },
    {
      "cell_type": "code",
      "source": [
        "sns.heatmap(pd.isnull(base_teste), cmap='gray')"
      ],
      "metadata": {
        "colab": {
          "base_uri": "https://localhost:8080/",
          "height": 454
        },
        "id": "6v5EA5Sbdvnc",
        "outputId": "624a4283-7b34-45d4-c711-09dff5ab9627"
      },
      "execution_count": 43,
      "outputs": [
        {
          "output_type": "execute_result",
          "data": {
            "text/plain": [
              "<Axes: >"
            ]
          },
          "metadata": {},
          "execution_count": 43
        },
        {
          "output_type": "display_data",
          "data": {
            "text/plain": [
              "<Figure size 640x480 with 2 Axes>"
            ],
            "image/png": "[encoded data removed]"
          },
          "metadata": {}
        }
      ]
    },
    {
      "cell_type": "markdown",
      "metadata": {
        "id": "K5Je3z0tFXy_"
      },
      "source": [
        "# Função para pré-processamento dos textos"
      ]
    },
    {
      "cell_type": "code",
      "source": [
        "import re"
      ],
      "metadata": {
        "id": "3JB5ypQPfAzj"
      },
      "execution_count": 44,
      "outputs": []
    },
    {
      "cell_type": "code",
      "execution_count": 45,
      "metadata": {
        "id": "LW4ETIzJFiSk"
      },
      "outputs": [],
      "source": [
        "from spacy.lang.pt.stop_words import STOP_WORDS\n",
        "stop_words = STOP_WORDS\n"
      ]
    },
    {
      "cell_type": "code",
      "execution_count": 46,
      "metadata": {
        "id": "XyQzd33mFso3",
        "colab": {
          "base_uri": "https://localhost:8080/"
        },
        "outputId": "1cb29212-c44d-4719-ed1a-9eb6d5dfea8f"
      },
      "outputs": [
        {
          "output_type": "stream",
          "name": "stderr",
          "text": [
            "/usr/local/lib/python3.11/dist-packages/spacy/util.py:1740: UserWarning: [W111] Jupyter notebook detected: if using `prefer_gpu()` or `require_gpu()`, include it in the same cell right before `spacy.load()` to ensure that the model is loaded on the correct device. More information: http://spacy.io/usage/v3#jupyter-notebook-gpu\n",
            "  warnings.warn(Warnings.W111)\n"
          ]
        }
      ],
      "source": [
        "pln = spacy.load('pt_core_news_sm')"
      ]
    },
    {
      "cell_type": "code",
      "execution_count": 47,
      "metadata": {
        "id": "ftK6aSNyF4AC"
      },
      "outputs": [],
      "source": [
        "def preprocessamento(texto):\n",
        "\n",
        "  texto = texto.lower()\n",
        "  texto = re.sub(r\"@[A-Za-z0-9$-_@.&+]+\", ' ', texto)\n",
        "  texto = re.sub(r\"https?://[A-Za-z0-9./]+\", ' ', texto)\n",
        "  texto = re.sub(r\" +\", ' ', texto)\n",
        "\n",
        "  lista_emocoes = {':)': 'emocaopositiva',\n",
        "                   ':d': 'emocaopositiva',\n",
        "                   ':(': 'emocaonegativa'}\n",
        "  for emocao in lista_emocoes:\n",
        "    texto = texto.replace(emocao, lista_emocoes[emocao])\n",
        "\n",
        "  documento = pln(texto)\n",
        "\n",
        "  lista = []\n",
        "  for token in documento:\n",
        "    lista.append(token.lemma_)\n",
        "\n",
        "  lista = [palavra for palavra in lista if palavra not in stop_words and palavra not in string.punctuation]\n",
        "  lista = ' '.join([str(elemento) for elemento in lista if not elemento.isdigit()])\n",
        "\n",
        "  return lista"
      ]
    },
    {
      "cell_type": "markdown",
      "metadata": {
        "id": "1Jjy4KcnG9VH"
      },
      "source": [
        "# Pré-processamento da base de dados"
      ]
    },
    {
      "cell_type": "code",
      "execution_count": 50,
      "metadata": {
        "id": "9yU0Sz0WHJo5"
      },
      "outputs": [],
      "source": [
        "base_treinamento['tweet_text'] = base_treinamento['tweet_text'].apply(preprocessamento)"
      ]
    },
    {
      "cell_type": "code",
      "source": [
        "base_teste['tweet_text'] = base_teste['tweet_text'].apply(preprocessamento)"
      ],
      "metadata": {
        "id": "GhxoPE8vidwv"
      },
      "execution_count": 52,
      "outputs": []
    },
    {
      "cell_type": "code",
      "execution_count": 53,
      "metadata": {
        "id": "Rqe_vhswJWNi"
      },
      "outputs": [],
      "source": [
        "base_dados_treinamento_final = []\n",
        "for text, emotion in zip(base_treinamento['tweet_text'], base_treinamento['sentiment']):\n",
        "  if emotion == 1:\n",
        "    dic = ({'positive': True, 'negative': False})\n",
        "  else:\n",
        "    dic = ({'positive': False, 'negative': True})\n",
        "\n",
        "  base_dados_treinamento_final.append([text, dic.copy()])\n"
      ]
    },
    {
      "cell_type": "code",
      "execution_count": 54,
      "metadata": {
        "colab": {
          "base_uri": "https://localhost:8080/"
        },
        "id": "8EK9hldfKqbE",
        "outputId": "2b927734-8048-46e9-a99b-a8cce9d19acc"
      },
      "outputs": [
        {
          "output_type": "execute_result",
          "data": {
            "text/plain": [
              "50000"
            ]
          },
          "metadata": {},
          "execution_count": 54
        }
      ],
      "source": [
        "len(base_dados_treinamento_final)"
      ]
    },
    {
      "cell_type": "code",
      "execution_count": 55,
      "metadata": {
        "colab": {
          "base_uri": "https://localhost:8080/"
        },
        "id": "8XwwTsXNKwn-",
        "outputId": "a8ca8083-9c22-495c-bf20-2c6ca796bdcf"
      },
      "outputs": [
        {
          "output_type": "execute_result",
          "data": {
            "text/plain": [
              "['  pessoa certo vale azevedo emocaopositivo',\n",
              " {'positive': True, 'negative': False}]"
            ]
          },
          "metadata": {},
          "execution_count": 55
        }
      ],
      "source": [
        "base_dados_treinamento_final[0]"
      ]
    },
    {
      "cell_type": "markdown",
      "metadata": {
        "id": "A_1F3kMGLAGG"
      },
      "source": [
        "# Criação do classificador"
      ]
    },
    {
      "cell_type": "code",
      "execution_count": 56,
      "metadata": {
        "id": "sOzqxt2dLD-9"
      },
      "outputs": [],
      "source": [
        "from spacy.training import Example"
      ]
    },
    {
      "cell_type": "code",
      "execution_count": 57,
      "metadata": {
        "colab": {
          "base_uri": "https://localhost:8080/"
        },
        "id": "F97-SWoALR2j",
        "outputId": "caf83266-255f-433c-da5a-6d4a37fc7eb0"
      },
      "outputs": [
        {
          "output_type": "stream",
          "name": "stderr",
          "text": [
            "/usr/local/lib/python3.11/dist-packages/spacy/util.py:1740: UserWarning: [W111] Jupyter notebook detected: if using `prefer_gpu()` or `require_gpu()`, include it in the same cell right before `spacy.load()` to ensure that the model is loaded on the correct device. More information: http://spacy.io/usage/v3#jupyter-notebook-gpu\n",
            "  warnings.warn(Warnings.W111)\n"
          ]
        }
      ],
      "source": [
        "modelo = spacy.blank('pt')\n",
        "categorias = modelo.add_pipe('textcat')\n",
        "categorias.add_label('positive')\n",
        "categorias.add_label('negative')\n",
        "historico = []"
      ]
    },
    {
      "cell_type": "code",
      "execution_count": 70,
      "metadata": {
        "colab": {
          "base_uri": "https://localhost:8080/"
        },
        "id": "4IuyiQpELd4o",
        "outputId": "beffdf0f-6ea2-4de7-9848-e75f3edb156a"
      },
      "outputs": [
        {
          "output_type": "stream",
          "name": "stdout",
          "text": [
            "{'textcat': 1.8102077933843645}\n"
          ]
        }
      ],
      "source": [
        "modelo.begin_training()\n",
        "for epoca in range(5):\n",
        "  random.shuffle(base_dados_treinamento_final)\n",
        "  losses = {}\n",
        "\n",
        "  for batch in spacy.util.minibatch(base_dados_treinamento_final, 512):\n",
        "    texts = [modelo(texto) for texto, entities in batch]\n",
        "    annotations = [{'cats': entities} for texto, entities in batch]\n",
        "    examples = [Example.from_dict(doc, annotation) for doc, annotation in zip(texts, annotations)]\n",
        "    modelo.update(examples, losses = losses)\n",
        "    historico.append(losses)\n",
        "\n",
        "  if epoca % 5 == 0:\n",
        "    print(losses)\n",
        "\n"
      ]
    },
    {
      "cell_type": "code",
      "execution_count": 71,
      "metadata": {
        "id": "_T1MU_WgQDz_"
      },
      "outputs": [],
      "source": [
        "historico_loss = []\n",
        "for i in historico:\n",
        "  historico_loss.append(i.get('textcat'))"
      ]
    },
    {
      "cell_type": "code",
      "execution_count": 72,
      "metadata": {
        "id": "k3AFfxBtQTvO",
        "colab": {
          "base_uri": "https://localhost:8080/"
        },
        "outputId": "e7c4c98d-51be-430e-d63c-d93b65fa8c48"
      },
      "outputs": [
        {
          "output_type": "execute_result",
          "data": {
            "text/plain": [
              "array([1.81553148, 1.81020779, 1.81020779, 1.81020779, 1.81020779,\n",
              "       1.81020779, 1.81020779, 1.81020779, 1.81020779, 1.81020779,\n",
              "       1.81020779, 1.81020779, 1.81020779, 1.81020779, 1.81020779,\n",
              "       1.81020779, 1.81020779, 1.81020779, 1.81020779, 1.81020779,\n",
              "       1.81020779, 1.81020779, 1.81020779, 1.81020779, 1.81020779,\n",
              "       1.81020779, 1.81020779, 1.81020779, 1.81020779, 1.81020779,\n",
              "       1.81020779, 1.81020779, 1.81020779, 1.81020779, 1.81020779,\n",
              "       1.81020779, 1.81020779, 1.81020779, 1.81020779, 1.81020779,\n",
              "       1.81020779, 1.81020779, 1.81020779, 1.81020779, 1.81020779,\n",
              "       1.81020779, 1.81020779, 1.81020779, 1.81020779, 1.81020779,\n",
              "       1.81020779, 1.81020779, 1.81020779, 1.81020779, 1.81020779,\n",
              "       1.81020779, 1.81020779, 1.81020779, 1.81020779, 1.81020779,\n",
              "       1.81020779, 1.81020779, 1.81020779, 1.81020779, 1.81020779,\n",
              "       1.81020779, 1.81020779, 1.81020779, 1.81020779, 1.81020779,\n",
              "       1.81020779, 1.81020779, 1.81020779, 1.81020779, 1.81020779,\n",
              "       1.81020779, 1.81020779, 1.81020779, 1.81020779, 1.81020779,\n",
              "       1.81020779, 1.81020779, 1.81020779, 1.81020779, 1.81020779,\n",
              "       1.81020779, 1.81020779, 1.81020779, 1.81020779, 1.81020779,\n",
              "       1.81020779, 1.81020779, 1.81020779, 1.81020779, 1.81020779,\n",
              "       1.81020779, 1.81020779, 1.81020779, 1.81020779, 0.05684588,\n",
              "       0.05684588, 0.05684588, 0.05684588, 0.05684588, 0.05684588,\n",
              "       0.05684588, 0.05684588, 0.05684588, 0.05684588, 0.05684588,\n",
              "       0.05684588, 0.05684588, 0.05684588, 0.05684588, 0.05684588,\n",
              "       0.05684588, 0.05684588, 0.05684588, 0.05684588, 0.05684588,\n",
              "       0.05684588, 0.05684588, 0.05684588, 0.05684588, 0.05684588,\n",
              "       0.05684588, 0.05684588, 0.05684588, 0.05684588, 0.05684588,\n",
              "       0.05684588, 0.05684588, 0.05684588, 0.05684588, 0.05684588,\n",
              "       0.05684588, 0.05684588, 0.05684588, 0.05684588, 0.05684588,\n",
              "       0.05684588, 0.05684588, 0.05684588, 0.05684588, 0.05684588,\n",
              "       0.05684588, 0.05684588, 0.05684588, 0.05684588, 0.05684588,\n",
              "       0.05684588, 0.05684588, 0.05684588, 0.05684588, 0.05684588,\n",
              "       0.05684588, 0.05684588, 0.05684588, 0.05684588, 0.05684588,\n",
              "       0.05684588, 0.05684588, 0.05684588, 0.05684588, 0.05684588,\n",
              "       0.05684588, 0.05684588, 0.05684588, 0.05684588, 0.05684588,\n",
              "       0.05684588, 0.05684588, 0.05684588, 0.05684588, 0.05684588,\n",
              "       0.05684588, 0.05684588, 0.05684588, 0.05684588, 0.05684588,\n",
              "       0.05684588, 0.05684588, 0.05684588, 0.05684588, 0.05684588,\n",
              "       0.05684588, 0.05684588, 0.05684588, 0.05684588, 0.05684588,\n",
              "       0.05684588, 0.05684588, 0.05684588, 0.05684588, 0.05684588,\n",
              "       0.05684588, 0.05684588, 0.01193578, 0.01193578, 0.01193578,\n",
              "       0.01193578, 0.01193578, 0.01193578, 0.01193578, 0.01193578,\n",
              "       0.01193578, 0.01193578, 0.01193578, 0.01193578, 0.01193578,\n",
              "       0.01193578, 0.01193578, 0.01193578, 0.01193578, 0.01193578,\n",
              "       0.01193578, 0.01193578, 0.01193578, 0.01193578, 0.01193578,\n",
              "       0.01193578, 0.01193578, 0.01193578, 0.01193578, 0.01193578,\n",
              "       0.01193578, 0.01193578, 0.01193578, 0.01193578, 0.01193578,\n",
              "       0.01193578, 0.01193578, 0.01193578, 0.01193578, 0.01193578,\n",
              "       0.01193578, 0.01193578, 0.01193578, 0.01193578, 0.01193578,\n",
              "       0.01193578, 0.01193578, 0.01193578, 0.01193578, 0.01193578,\n",
              "       0.01193578, 0.01193578, 0.01193578, 0.01193578, 0.01193578,\n",
              "       0.01193578, 0.01193578, 0.01193578, 0.01193578, 0.01193578,\n",
              "       0.01193578, 0.01193578, 0.01193578, 0.01193578, 0.01193578,\n",
              "       0.01193578, 0.01193578, 0.01193578, 0.01193578, 0.01193578,\n",
              "       0.01193578, 0.01193578, 0.01193578, 0.01193578, 0.01193578,\n",
              "       0.01193578, 0.01193578, 0.01193578, 0.01193578, 0.01193578,\n",
              "       0.01193578, 0.01193578, 0.01193578, 0.01193578, 0.01193578,\n",
              "       0.01193578, 0.01193578, 0.01193578, 0.01193578, 0.01193578,\n",
              "       0.01193578, 0.01193578, 0.01193578, 0.01193578, 0.01193578,\n",
              "       0.01193578, 0.01193578, 0.01193578, 0.01193578, 0.01193578,\n",
              "       0.00867863, 0.00867863, 0.00867863, 0.00867863, 0.00867863,\n",
              "       0.00867863, 0.00867863, 0.00867863, 0.00867863, 0.00867863,\n",
              "       0.00867863, 0.00867863, 0.00867863, 0.00867863, 0.00867863,\n",
              "       0.00867863, 0.00867863, 0.00867863, 0.00867863, 0.00867863,\n",
              "       0.00867863, 0.00867863, 0.00867863, 0.00867863, 0.00867863,\n",
              "       0.00867863, 0.00867863, 0.00867863, 0.00867863, 0.00867863,\n",
              "       0.00867863, 0.00867863, 0.00867863, 0.00867863, 0.00867863,\n",
              "       0.00867863, 0.00867863, 0.00867863, 0.00867863, 0.00867863,\n",
              "       0.00867863, 0.00867863, 0.00867863, 0.00867863, 0.00867863,\n",
              "       0.00867863, 0.00867863, 0.00867863, 0.00867863, 0.00867863,\n",
              "       0.00867863, 0.00867863, 0.00867863, 0.00867863, 0.00867863,\n",
              "       0.00867863, 0.00867863, 0.00867863, 0.00867863, 0.00867863,\n",
              "       0.00867863, 0.00867863, 0.00867863, 0.00867863, 0.00867863,\n",
              "       0.00867863, 0.00867863, 0.00867863, 0.00867863, 0.00867863,\n",
              "       0.00867863, 0.00867863, 0.00867863, 0.00867863, 0.00867863,\n",
              "       0.00867863, 0.00867863, 0.00867863, 0.00867863, 0.00867863,\n",
              "       0.00867863, 0.00867863, 0.00867863, 0.00867863, 0.00867863,\n",
              "       0.00867863, 0.00867863, 0.00867863, 0.00867863, 0.00867863,\n",
              "       0.00867863, 0.00867863, 0.00867863, 0.00867863, 0.00867863,\n",
              "       0.00867863, 0.00867863, 0.00867863, 0.00523891, 0.00523891,\n",
              "       0.00523891, 0.00523891, 0.00523891, 0.00523891, 0.00523891,\n",
              "       0.00523891, 0.00523891, 0.00523891, 0.00523891, 0.00523891,\n",
              "       0.00523891, 0.00523891, 0.00523891, 0.00523891, 0.00523891,\n",
              "       0.00523891, 0.00523891, 0.00523891, 0.00523891, 0.00523891,\n",
              "       0.00523891, 0.00523891, 0.00523891, 0.00523891, 0.00523891,\n",
              "       0.00523891, 0.00523891, 0.00523891, 0.00523891, 0.00523891,\n",
              "       0.00523891, 0.00523891, 0.00523891, 0.00523891, 0.00523891,\n",
              "       0.00523891, 0.00523891, 0.00523891, 0.00523891, 0.00523891,\n",
              "       0.00523891, 0.00523891, 0.00523891, 0.00523891, 0.00523891,\n",
              "       0.00523891, 0.00523891, 0.00523891, 0.00523891, 0.00523891,\n",
              "       0.00523891, 0.00523891, 0.00523891, 0.00523891, 0.00523891,\n",
              "       0.00523891, 0.00523891, 0.00523891, 0.00523891, 0.00523891,\n",
              "       0.00523891, 0.00523891, 0.00523891, 0.00523891, 0.00523891,\n",
              "       0.00523891, 0.00523891, 0.00523891, 0.00523891, 0.00523891,\n",
              "       0.00523891, 0.00523891, 0.00523891, 0.00523891, 0.00523891,\n",
              "       0.00523891, 0.00523891, 0.00523891, 0.00523891, 0.00523891,\n",
              "       0.00523891, 0.00523891, 0.00523891, 0.00523891, 0.00523891,\n",
              "       0.00523891, 0.00523891, 0.00523891, 0.00523891, 0.00523891,\n",
              "       0.00523891, 0.00523891, 0.00523891, 0.00523891, 0.00523891,\n",
              "       0.00523891])"
            ]
          },
          "metadata": {},
          "execution_count": 72
        }
      ],
      "source": [
        "historico_loss = np.array(historico_loss)\n",
        "historico_loss\n"
      ]
    },
    {
      "cell_type": "code",
      "source": [
        "import matplotlib.pyplot as plt\n",
        "\n",
        "plt.plot(historico_loss)\n",
        "plt.title('Evolução do erro')\n",
        "plt.xlabel('batches')\n",
        "plt.ylabel('erro')\n",
        "plt.show()"
      ],
      "metadata": {
        "colab": {
          "base_uri": "https://localhost:8080/",
          "height": 472
        },
        "id": "4L0hAbRl3B6a",
        "outputId": "cc8d77ba-84e5-4898-c8c0-53519f515545"
      },
      "execution_count": 73,
      "outputs": [
        {
          "output_type": "display_data",
          "data": {
            "text/plain": [
              "<Figure size 640x480 with 1 Axes>"
            ],
            "image/png": "[encoded data removed]"
          },
          "metadata": {}
        }
      ]
    },
    {
      "cell_type": "code",
      "source": [
        "modelo.to_disk('modelo_classificacao_sentimento')"
      ],
      "metadata": {
        "id": "lQqT6pce3OM4"
      },
      "execution_count": 74,
      "outputs": []
    },
    {
      "cell_type": "markdown",
      "source": [
        "#Testes"
      ],
      "metadata": {
        "id": "RRA30BI-3VKf"
      }
    },
    {
      "cell_type": "code",
      "source": [
        "modelo_carregado = spacy.load('modelo_classificacao_sentimento')"
      ],
      "metadata": {
        "colab": {
          "base_uri": "https://localhost:8080/"
        },
        "id": "vMjuQClr3Xxu",
        "outputId": "4539d1e2-c6c4-4da5-fecc-7cf570b8e192"
      },
      "execution_count": 77,
      "outputs": [
        {
          "output_type": "stream",
          "name": "stderr",
          "text": [
            "/usr/local/lib/python3.11/dist-packages/spacy/util.py:1740: UserWarning: [W111] Jupyter notebook detected: if using `prefer_gpu()` or `require_gpu()`, include it in the same cell right before `spacy.load()` to ensure that the model is loaded on the correct device. More information: http://spacy.io/usage/v3#jupyter-notebook-gpu\n",
            "  warnings.warn(Warnings.W111)\n"
          ]
        }
      ]
    },
    {
      "cell_type": "markdown",
      "source": [
        "##Texto positivo"
      ],
      "metadata": {
        "id": "AceSxrGD3bCq"
      }
    },
    {
      "cell_type": "code",
      "source": [
        "texto_positivo = 'Eu sou muito contente'\n",
        "texto_positivo = preprocessamento(texto_positivo)\n",
        "texto_positivo"
      ],
      "metadata": {
        "colab": {
          "base_uri": "https://localhost:8080/",
          "height": 35
        },
        "id": "0MEQd7T93fYB",
        "outputId": "3c879e73-a501-4f89-9833-1b8941828c9f"
      },
      "execution_count": 78,
      "outputs": [
        {
          "output_type": "execute_result",
          "data": {
            "text/plain": [
              "'contente'"
            ],
            "application/vnd.google.colaboratory.intrinsic+json": {
              "type": "string"
            }
          },
          "metadata": {},
          "execution_count": 78
        }
      ]
    },
    {
      "cell_type": "code",
      "source": [
        "modelo_carregado(texto_positivo).cats"
      ],
      "metadata": {
        "colab": {
          "base_uri": "https://localhost:8080/"
        },
        "id": "Wnd34A503xmj",
        "outputId": "d2d9dc8c-421b-4a3e-ae2f-c4ff918071f2"
      },
      "execution_count": 79,
      "outputs": [
        {
          "output_type": "execute_result",
          "data": {
            "text/plain": [
              "{'positive': 0.999683141708374, 'negative': 0.0003168737457599491}"
            ]
          },
          "metadata": {},
          "execution_count": 79
        }
      ]
    },
    {
      "cell_type": "markdown",
      "source": [
        "##Texto negativo"
      ],
      "metadata": {
        "id": "SP5Ws-hZ36j0"
      }
    },
    {
      "cell_type": "code",
      "source": [
        "texto_negativo = 'estou com dor de cabeça'\n",
        "texto_negativo = preprocessamento(texto_negativo)\n",
        "texto_negativo"
      ],
      "metadata": {
        "colab": {
          "base_uri": "https://localhost:8080/",
          "height": 35
        },
        "id": "YD-Zt9w_38lI",
        "outputId": "52e71aa9-3f5f-419a-f1c5-0c48cb9cbc01"
      },
      "execution_count": 82,
      "outputs": [
        {
          "output_type": "execute_result",
          "data": {
            "text/plain": [
              "'dor cabeça'"
            ],
            "application/vnd.google.colaboratory.intrinsic+json": {
              "type": "string"
            }
          },
          "metadata": {},
          "execution_count": 82
        }
      ]
    },
    {
      "cell_type": "code",
      "source": [
        "modelo_carregado(texto_negativo).cats\n"
      ],
      "metadata": {
        "colab": {
          "base_uri": "https://localhost:8080/"
        },
        "id": "cIrZRZc24DS-",
        "outputId": "710a94de-afd5-4ce3-fe83-c24bdfe6a316"
      },
      "execution_count": 83,
      "outputs": [
        {
          "output_type": "execute_result",
          "data": {
            "text/plain": [
              "{'positive': 0.3602240979671478, 'negative': 0.6397758722305298}"
            ]
          },
          "metadata": {},
          "execution_count": 83
        }
      ]
    },
    {
      "cell_type": "markdown",
      "source": [
        "#Avaliação do modelo"
      ],
      "metadata": {
        "id": "7VE6q8nJ4TSg"
      }
    },
    {
      "cell_type": "code",
      "source": [
        "previsoes = []\n",
        "for texto in base_teste['tweet_text']:\n",
        "  previsao = modelo_carregado(texto)\n",
        "  previsoes.append(previsao.cats)\n",
        "\n",
        "previsoes_final = []\n",
        "for previsao in previsoes:\n",
        "  if previsao['positive'] > previsao['negative']:\n",
        "    previsoes_final.append(1)\n",
        "  else:\n",
        "    previsoes_final.append(0)"
      ],
      "metadata": {
        "id": "UY-v6H5R4VT5"
      },
      "execution_count": 84,
      "outputs": []
    },
    {
      "cell_type": "code",
      "source": [
        "previsoes_final = np.array(previsoes_final)\n",
        "previsoes_final"
      ],
      "metadata": {
        "colab": {
          "base_uri": "https://localhost:8080/"
        },
        "id": "QL8kwZf94wgq",
        "outputId": "489513b3-a870-47bd-9552-0d5dfdf33aef"
      },
      "execution_count": 87,
      "outputs": [
        {
          "output_type": "execute_result",
          "data": {
            "text/plain": [
              "array([1, 1, 1, ..., 0, 0, 0])"
            ]
          },
          "metadata": {},
          "execution_count": 87
        }
      ]
    },
    {
      "cell_type": "code",
      "source": [
        "respostas_reais = base_teste['sentiment'].values\n",
        "respostas_reais"
      ],
      "metadata": {
        "colab": {
          "base_uri": "https://localhost:8080/"
        },
        "id": "qImqnnhy45AZ",
        "outputId": "5a9521ec-1ddf-4271-c6b1-5ae68bf3a2b5"
      },
      "execution_count": 93,
      "outputs": [
        {
          "output_type": "execute_result",
          "data": {
            "text/plain": [
              "array([1, 1, 1, ..., 0, 0, 0])"
            ]
          },
          "metadata": {},
          "execution_count": 93
        }
      ]
    },
    {
      "cell_type": "code",
      "source": [
        "from sklearn.metrics import accuracy_score\n",
        "accuracy_score(respostas_rais, previsoes_final)"
      ],
      "metadata": {
        "colab": {
          "base_uri": "https://localhost:8080/"
        },
        "id": "tE-9iGax5k_d",
        "outputId": "9c008fa3-7c06-4d34-c220-21ee2e9dd506"
      },
      "execution_count": 94,
      "outputs": [
        {
          "output_type": "execute_result",
          "data": {
            "text/plain": [
              "0.9972"
            ]
          },
          "metadata": {},
          "execution_count": 94
        }
      ]
    },
    {
      "cell_type": "code",
      "source": [
        "from sklearn.metrics import confusion_matrix\n",
        "confusion_matrix(respostas_reais, previsoes_final)"
      ],
      "metadata": {
        "colab": {
          "base_uri": "https://localhost:8080/"
        },
        "id": "xEvA-RxC5uDD",
        "outputId": "a780ac3f-8dd8-4369-d985-4b2e0ee01a7a"
      },
      "execution_count": 95,
      "outputs": [
        {
          "output_type": "execute_result",
          "data": {
            "text/plain": [
              "array([[2493,    7],\n",
              "       [   7, 2493]])"
            ]
          },
          "metadata": {},
          "execution_count": 95
        }
      ]
    },
    {
      "cell_type": "code",
      "source": [
        "sns.heatmap(confusion_matrix(respostas_reais, previsoes_final), annot=True)"
      ],
      "metadata": {
        "colab": {
          "base_uri": "https://localhost:8080/",
          "height": 447
        },
        "id": "da3k1VKS5wm8",
        "outputId": "28cf95be-92c0-4c0f-d18e-8991e0f47786"
      },
      "execution_count": 96,
      "outputs": [
        {
          "output_type": "execute_result",
          "data": {
            "text/plain": [
              "<Axes: >"
            ]
          },
          "metadata": {},
          "execution_count": 96
        },
        {
          "output_type": "display_data",
          "data": {
            "text/plain": [
              "<Figure size 640x480 with 2 Axes>"
            ],
            "image/png": "[encoded data removed]"
          },
          "metadata": {}
        }
      ]
    }
  ],
  "metadata": {
    "colab": {
      "provenance": [],
      "authorship_tag": "ABX9TyOcbwe4nORaulfCsCi08hG+",
      "include_colab_link": true
    },
    "kernelspec": {
      "display_name": "Python 3",
      "name": "python3"
    },
    "language_info": {
      "name": "python"
    }
  },
  "nbformat": 4,
  "nbformat_minor": 0
}